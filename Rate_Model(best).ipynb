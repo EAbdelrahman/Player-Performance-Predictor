{
  "nbformat": 4,
  "nbformat_minor": 0,
  "metadata": {
    "colab": {
      "name": "Rate_Model(best).ipynb",
      "provenance": [],
      "collapsed_sections": [],
      "authorship_tag": "ABX9TyP3C1MDD5X0djkKOqGj2LQy",
      "include_colab_link": true
    },
    "kernelspec": {
      "name": "python3",
      "display_name": "Python 3"
    }
  },
  "cells": [
    {
      "cell_type": "markdown",
      "metadata": {
        "id": "view-in-github",
        "colab_type": "text"
      },
      "source": [
        "<a href=\"https://colab.research.google.com/github/EAbdelrahman/Player-Performance-Predictor/blob/main/Rate_Model(best).ipynb\" target=\"_parent\"><img src=\"https://colab.research.google.com/assets/colab-badge.svg\" alt=\"Open In Colab\"/></a>"
      ]
    },
    {
      "cell_type": "markdown",
      "metadata": {
        "id": "3iFJ-lOLIcTT"
      },
      "source": [
        "# Importing Libraries"
      ]
    },
    {
      "cell_type": "code",
      "metadata": {
        "id": "x3i9YOx34M3F"
      },
      "source": [
        "import pandas as pd\n",
        "import numpy as np\n",
        "import matplotlib.pyplot as plt\n",
        "import scipy as sp\n",
        "from sklearn.ensemble import GradientBoostingClassifier\n",
        "from sklearn.linear_model import LogisticRegression\n",
        "from sklearn.neural_network import MLPClassifier\n",
        "from sklearn.metrics import average_precision_score, roc_auc_score, f1_score, precision_score, \\\n",
        "recall_score, cohen_kappa_score, classification_report,confusion_matrix\n",
        "from sklearn.model_selection import train_test_split\n",
        "import seaborn as sns\n",
        "from datetime import datetime\n",
        "from sklearn.preprocessing import StandardScaler\n",
        "pd.options.display.max_columns = 999\n",
        "pd.options.display.max_rows = 50 "
      ],
      "execution_count": 2,
      "outputs": []
    },
    {
      "cell_type": "markdown",
      "metadata": {
        "id": "s9YH4R6MI3po"
      },
      "source": [
        "# importing data "
      ]
    },
    {
      "cell_type": "code",
      "metadata": {
        "id": "195w0OTs5sGO",
        "colab": {
          "resources": {
            "http://localhost:8080/nbextensions/google.colab/files.js": {
              "data": "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",
              "ok": true,
              "headers": [
                [
                  "content-type",
                  "application/javascript"
                ]
              ],
              "status": 200,
              "status_text": ""
            }
          },
          "base_uri": "https://localhost:8080/",
          "height": 72
        },
        "outputId": "5013240d-c1ea-4381-b00c-a02df8a02f28"
      },
      "source": [
        "from google.colab import files\r\n",
        "uploaded= files.upload()"
      ],
      "execution_count": 4,
      "outputs": [
        {
          "output_type": "display_data",
          "data": {
            "text/html": [
              "\n",
              "     <input type=\"file\" id=\"files-12a4f3b4-c35e-46fd-9486-bc9d39ffa8f3\" name=\"files[]\" multiple disabled\n",
              "        style=\"border:none\" />\n",
              "     <output id=\"result-12a4f3b4-c35e-46fd-9486-bc9d39ffa8f3\">\n",
              "      Upload widget is only available when the cell has been executed in the\n",
              "      current browser session. Please rerun this cell to enable.\n",
              "      </output>\n",
              "      <script src=\"/nbextensions/google.colab/files.js\"></script> "
            ],
            "text/plain": [
              "<IPython.core.display.HTML object>"
            ]
          },
          "metadata": {
            "tags": []
          }
        },
        {
          "output_type": "stream",
          "text": [
            "Saving all_Data_all_the_time.xlsx to all_Data_all_the_time.xlsx\n"
          ],
          "name": "stdout"
        }
      ]
    },
    {
      "cell_type": "code",
      "metadata": {
        "id": "FgPFseXNJHVx"
      },
      "source": [
        "import io\r\n",
        "Full_Data = pd.read_excel(io.BytesIO(uploaded['all_Data_all_the_time.xlsx']))"
      ],
      "execution_count": 5,
      "outputs": []
    },
    {
      "cell_type": "markdown",
      "metadata": {
        "id": "lJUP1iuYJXHU"
      },
      "source": [
        "# Handling Data"
      ]
    },
    {
      "cell_type": "markdown",
      "metadata": {
        "id": "JfMiYnwXJtmE"
      },
      "source": [
        "##Clean the Data"
      ]
    },
    {
      "cell_type": "code",
      "metadata": {
        "id": "rVzVdNgeJyPO"
      },
      "source": [
        "filtered_by_league=Full_Data[Full_Data.league=='Premier League']\r\n",
        "filtered_by_league_NULL=filtered_by_league[filtered_by_league.rating>0]\r\n",
        "filtered_by_league_NULL_FW=filtered_by_league_NULL[filtered_by_league_NULL.position=='Attacker']\r\n",
        "\r\n"
      ],
      "execution_count": 35,
      "outputs": []
    },
    {
      "cell_type": "markdown",
      "metadata": {
        "id": "8wDCXI0sJdRs"
      },
      "source": [
        "## Split Data into Target and Features"
      ]
    },
    {
      "cell_type": "markdown",
      "metadata": {
        "id": "stfWZGljLlHO"
      },
      "source": [
        "## Feature Vector\r\n",
        "\r\n",
        "Let's create a feature vector."
      ]
    },
    {
      "cell_type": "code",
      "metadata": {
        "colab": {
          "base_uri": "https://localhost:8080/"
        },
        "id": "dy6t7Y6lPI7O",
        "outputId": "6da9220e-21df-4cc8-a891-c5d81461c4db"
      },
      "source": [
        "#list(filtered_by_league_NULL_FW.columns)\r\n",
        "filtered_by_league_NULL_FW.columns\r\n"
      ],
      "execution_count": null,
      "outputs": [
        {
          "output_type": "execute_result",
          "data": {
            "text/plain": [
              "Index(['player_id', 'player_name', 'firstname', 'lastname', 'number',\n",
              "       'position', 'age', 'birth_date', 'birth_place', 'birth_country',\n",
              "       'nationality', 'height', 'weight', 'injured', 'rating', 'team_id',\n",
              "       'team_name', 'league_id', 'league', 'season', 'captain', 'shots/total',\n",
              "       'shots/on', 'goals/total', 'goals/conceded', 'goals/assists',\n",
              "       'goals/saves', 'passes/total', 'passes/key', 'passes/accuracy',\n",
              "       'tackles/total', 'tackles/blocks', 'tackles/interceptions',\n",
              "       'duels/total', 'duels/won', 'dribbles/attempts', 'dribbles/success',\n",
              "       'fouls/drawn', 'fouls/committed', 'cards/yellow', 'cards/yellowred',\n",
              "       'cards/red', 'penalty/won', 'penalty/commited', 'penalty/success',\n",
              "       'penalty/missed', 'penalty/saved', 'games/appearences',\n",
              "       'games/minutes_played', 'games/lineups', 'substitutes/in',\n",
              "       'substitutes/out', 'substitutes/bench'],\n",
              "      dtype='object')"
            ]
          },
          "metadata": {
            "tags": []
          },
          "execution_count": 43
        }
      ]
    },
    {
      "cell_type": "code",
      "metadata": {
        "id": "jixfiuv5Jahd",
        "colab": {
          "base_uri": "https://localhost:8080/"
        },
        "outputId": "9b41bf4c-06b2-432d-8628-313dec001bfb"
      },
      "source": [
        "features = ['captain','shots/total'\r\n",
        ",'shots/on','goals/total','goals/assists','passes/total','passes/key','passes/accuracy','tackles/total','tackles/blocks'\r\n",
        ",'tackles/interceptions','duels/total','duels/won','dribbles/attempts','dribbles/success','fouls/drawn','fouls/committed','cards/yellow','cards/yellowred','cards/red'\r\n",
        ",'penalty/won','penalty/commited','penalty/success','penalty/missed','games/appearences','games/minutes_played','games/lineups','substitutes/in','substitutes/out'\r\n",
        ",'substitutes/bench','results','players__player_id','players__player_name','players__firstname','players__lastname','players__number','players__position'\r\n",
        ",'players__age','players__birth_date','players__birth_place','players__birth_country','players__nationality','players__height','players__weight','players__injured'\r\n",
        ",'players__rating','players__team_id','players__team_name','players__league_id','players__league','players__season','players__captain','players__shots__total'\r\n",
        ",'players__shots__on','players__goals__total','players__goals__conceded','players__goals__assists','players__goals__saves','players__passes__total','players__passes__key'\r\n",
        ",'players__passes__accuracy','players__tackles__total','players__tackles__blocks','players__tackles__interceptions','players__duels__total','players__duels__won'\r\n",
        ",'players__dribbles__attempts','players__dribbles__success','players__fouls__drawn','players__fouls__committed','players__cards__yellow','players__cards__yellowred'\r\n",
        ",'players__cards__red','players__penalty__won','players__penalty__commited','players__penalty__success','players__penalty__missed','players__penalty__saved'\r\n",
        ",'players__games__appearences','players__games__minutes_played','players__games__lineups','players__substitutes__in'\r\n",
        ",'players__substitutes__out','players__substitutes__bench']\r\n",
        "\r\n",
        "\r\n",
        "x=filtered_by_league_NULL_FW.iloc[:,20:53]\r\n",
        "X=x.drop(columns=['goals/conceded','goals/saves','penalty/saved'])\r\n",
        "\r\n",
        "#Y=(filtered_by_league_NULL_FW['rating']*100).astype('int') #For Classification\r\n",
        "\r\n",
        "Y=filtered_by_league_NULL_FW['rating']\r\n",
        "\r\n",
        "X.columns\r\n"
      ],
      "execution_count": 79,
      "outputs": [
        {
          "output_type": "execute_result",
          "data": {
            "text/plain": [
              "Index(['captain', 'shots/total', 'shots/on', 'goals/total', 'goals/assists',\n",
              "       'passes/total', 'passes/key', 'passes/accuracy', 'tackles/total',\n",
              "       'tackles/blocks', 'tackles/interceptions', 'duels/total', 'duels/won',\n",
              "       'dribbles/attempts', 'dribbles/success', 'fouls/drawn',\n",
              "       'fouls/committed', 'cards/yellow', 'cards/yellowred', 'cards/red',\n",
              "       'penalty/won', 'penalty/commited', 'penalty/success', 'penalty/missed',\n",
              "       'games/appearences', 'games/minutes_played', 'games/lineups',\n",
              "       'substitutes/in', 'substitutes/out', 'substitutes/bench'],\n",
              "      dtype='object')"
            ]
          },
          "metadata": {
            "tags": []
          },
          "execution_count": 79
        }
      ]
    },
    {
      "cell_type": "code",
      "metadata": {
        "id": "4NjIhlQ5zVYm"
      },
      "source": [
        "X_train, X_test, y_train, y_test = train_test_split(X, Y, test_size = 0.2, random_state = 1)"
      ],
      "execution_count": 34,
      "outputs": []
    },
    {
      "cell_type": "code",
      "metadata": {
        "colab": {
          "base_uri": "https://localhost:8080/",
          "height": 297
        },
        "id": "CvscCwCcqJq2",
        "outputId": "08b8a7bb-8c5a-44e1-a909-eb1711c24d55"
      },
      "source": [
        "#for vesion only\r\n",
        "filtered_by_league_NULL_FW[['rating']].describe()"
      ],
      "execution_count": 7,
      "outputs": [
        {
          "output_type": "execute_result",
          "data": {
            "text/html": [
              "<div>\n",
              "<style scoped>\n",
              "    .dataframe tbody tr th:only-of-type {\n",
              "        vertical-align: middle;\n",
              "    }\n",
              "\n",
              "    .dataframe tbody tr th {\n",
              "        vertical-align: top;\n",
              "    }\n",
              "\n",
              "    .dataframe thead th {\n",
              "        text-align: right;\n",
              "    }\n",
              "</style>\n",
              "<table border=\"1\" class=\"dataframe\">\n",
              "  <thead>\n",
              "    <tr style=\"text-align: right;\">\n",
              "      <th></th>\n",
              "      <th>rating</th>\n",
              "    </tr>\n",
              "  </thead>\n",
              "  <tbody>\n",
              "    <tr>\n",
              "      <th>count</th>\n",
              "      <td>465.000000</td>\n",
              "    </tr>\n",
              "    <tr>\n",
              "      <th>mean</th>\n",
              "      <td>6.810627</td>\n",
              "    </tr>\n",
              "    <tr>\n",
              "      <th>std</th>\n",
              "      <td>0.288005</td>\n",
              "    </tr>\n",
              "    <tr>\n",
              "      <th>min</th>\n",
              "      <td>5.800000</td>\n",
              "    </tr>\n",
              "    <tr>\n",
              "      <th>25%</th>\n",
              "      <td>6.633333</td>\n",
              "    </tr>\n",
              "    <tr>\n",
              "      <th>50%</th>\n",
              "      <td>6.771875</td>\n",
              "    </tr>\n",
              "    <tr>\n",
              "      <th>75%</th>\n",
              "      <td>6.946666</td>\n",
              "    </tr>\n",
              "    <tr>\n",
              "      <th>max</th>\n",
              "      <td>7.856756</td>\n",
              "    </tr>\n",
              "  </tbody>\n",
              "</table>\n",
              "</div>"
            ],
            "text/plain": [
              "           rating\n",
              "count  465.000000\n",
              "mean     6.810627\n",
              "std      0.288005\n",
              "min      5.800000\n",
              "25%      6.633333\n",
              "50%      6.771875\n",
              "75%      6.946666\n",
              "max      7.856756"
            ]
          },
          "metadata": {
            "tags": []
          },
          "execution_count": 7
        }
      ]
    },
    {
      "cell_type": "markdown",
      "metadata": {
        "id": "yoNXtSATKr9b"
      },
      "source": [
        "### Scaling the feature vector\r\n",
        "\r\n",
        "Let's scale the feature vector.\r\n",
        "\r\n",
        "First the standard scaler substracts by the mean and divides by std.  Let's try that ourselves and see if that looks right."
      ]
    },
    {
      "cell_type": "code",
      "metadata": {
        "id": "oqrsa9xmKNtU"
      },
      "source": [
        "sc_X = StandardScaler()\r\n",
        "X_train = sc_X.fit_transform(X_train)\r\n",
        "X_test = sc_X.transform(X_test)\r\n",
        "sc_y = StandardScaler()\r\n",
        "#y_train = sc_y.fit_transform(y_train)"
      ],
      "execution_count": 44,
      "outputs": []
    },
    {
      "cell_type": "markdown",
      "metadata": {
        "id": "ItW8BM42MmYu"
      },
      "source": [
        "### Reducing Dimensions( **Whitening Data**)\r\n",
        "\r\n"
      ]
    },
    {
      "cell_type": "code",
      "metadata": {
        "colab": {
          "base_uri": "https://localhost:8080/",
          "height": 131
        },
        "id": "_KjlRXS5p6iU",
        "outputId": "c3752947-a090-41fd-e8be-78c485669e4a"
      },
      "source": [
        "#for vesion only\r\n",
        "X.corr().head(2)"
      ],
      "execution_count": 25,
      "outputs": [
        {
          "output_type": "execute_result",
          "data": {
            "text/html": [
              "<div>\n",
              "<style scoped>\n",
              "    .dataframe tbody tr th:only-of-type {\n",
              "        vertical-align: middle;\n",
              "    }\n",
              "\n",
              "    .dataframe tbody tr th {\n",
              "        vertical-align: top;\n",
              "    }\n",
              "\n",
              "    .dataframe thead th {\n",
              "        text-align: right;\n",
              "    }\n",
              "</style>\n",
              "<table border=\"1\" class=\"dataframe\">\n",
              "  <thead>\n",
              "    <tr style=\"text-align: right;\">\n",
              "      <th></th>\n",
              "      <th>captain</th>\n",
              "      <th>shots/total</th>\n",
              "      <th>shots/on</th>\n",
              "      <th>goals/total</th>\n",
              "      <th>goals/assists</th>\n",
              "      <th>passes/total</th>\n",
              "      <th>passes/key</th>\n",
              "      <th>passes/accuracy</th>\n",
              "      <th>tackles/total</th>\n",
              "      <th>tackles/blocks</th>\n",
              "      <th>tackles/interceptions</th>\n",
              "      <th>duels/total</th>\n",
              "      <th>duels/won</th>\n",
              "      <th>dribbles/attempts</th>\n",
              "      <th>dribbles/success</th>\n",
              "      <th>fouls/drawn</th>\n",
              "      <th>fouls/committed</th>\n",
              "      <th>cards/yellow</th>\n",
              "      <th>cards/yellowred</th>\n",
              "      <th>cards/red</th>\n",
              "      <th>penalty/won</th>\n",
              "      <th>penalty/commited</th>\n",
              "      <th>penalty/success</th>\n",
              "      <th>penalty/missed</th>\n",
              "      <th>games/appearences</th>\n",
              "      <th>games/minutes_played</th>\n",
              "      <th>games/lineups</th>\n",
              "      <th>substitutes/in</th>\n",
              "      <th>substitutes/out</th>\n",
              "      <th>substitutes/bench</th>\n",
              "    </tr>\n",
              "  </thead>\n",
              "  <tbody>\n",
              "    <tr>\n",
              "      <th>captain</th>\n",
              "      <td>1.000000</td>\n",
              "      <td>0.126171</td>\n",
              "      <td>0.140966</td>\n",
              "      <td>0.159797</td>\n",
              "      <td>0.037557</td>\n",
              "      <td>0.096367</td>\n",
              "      <td>0.099655</td>\n",
              "      <td>-0.063485</td>\n",
              "      <td>0.071584</td>\n",
              "      <td>0.169835</td>\n",
              "      <td>0.064267</td>\n",
              "      <td>0.191938</td>\n",
              "      <td>0.174124</td>\n",
              "      <td>-0.031664</td>\n",
              "      <td>-0.042654</td>\n",
              "      <td>0.072215</td>\n",
              "      <td>0.135878</td>\n",
              "      <td>0.117818</td>\n",
              "      <td>-0.016583</td>\n",
              "      <td>0.319619</td>\n",
              "      <td>-0.010213</td>\n",
              "      <td>0.085788</td>\n",
              "      <td>0.314003</td>\n",
              "      <td>0.278546</td>\n",
              "      <td>0.123194</td>\n",
              "      <td>0.166197</td>\n",
              "      <td>0.163650</td>\n",
              "      <td>-0.074054</td>\n",
              "      <td>0.027628</td>\n",
              "      <td>-0.096654</td>\n",
              "    </tr>\n",
              "    <tr>\n",
              "      <th>shots/total</th>\n",
              "      <td>0.126171</td>\n",
              "      <td>1.000000</td>\n",
              "      <td>0.971949</td>\n",
              "      <td>0.891769</td>\n",
              "      <td>0.692244</td>\n",
              "      <td>0.786137</td>\n",
              "      <td>0.782522</td>\n",
              "      <td>0.158564</td>\n",
              "      <td>0.569470</td>\n",
              "      <td>0.471094</td>\n",
              "      <td>0.525303</td>\n",
              "      <td>0.764940</td>\n",
              "      <td>0.724605</td>\n",
              "      <td>0.691193</td>\n",
              "      <td>0.646313</td>\n",
              "      <td>0.674270</td>\n",
              "      <td>0.679163</td>\n",
              "      <td>0.549135</td>\n",
              "      <td>0.087159</td>\n",
              "      <td>0.145427</td>\n",
              "      <td>0.423871</td>\n",
              "      <td>0.117054</td>\n",
              "      <td>0.493960</td>\n",
              "      <td>0.297705</td>\n",
              "      <td>0.804802</td>\n",
              "      <td>0.891204</td>\n",
              "      <td>0.888037</td>\n",
              "      <td>-0.097704</td>\n",
              "      <td>0.671683</td>\n",
              "      <td>-0.275060</td>\n",
              "    </tr>\n",
              "  </tbody>\n",
              "</table>\n",
              "</div>"
            ],
            "text/plain": [
              "              captain  shots/total  shots/on  goals/total  goals/assists  \\\n",
              "captain      1.000000     0.126171  0.140966     0.159797       0.037557   \n",
              "shots/total  0.126171     1.000000  0.971949     0.891769       0.692244   \n",
              "\n",
              "             passes/total  passes/key  passes/accuracy  tackles/total  \\\n",
              "captain          0.096367    0.099655        -0.063485       0.071584   \n",
              "shots/total      0.786137    0.782522         0.158564       0.569470   \n",
              "\n",
              "             tackles/blocks  tackles/interceptions  duels/total  duels/won  \\\n",
              "captain            0.169835               0.064267     0.191938   0.174124   \n",
              "shots/total        0.471094               0.525303     0.764940   0.724605   \n",
              "\n",
              "             dribbles/attempts  dribbles/success  fouls/drawn  \\\n",
              "captain              -0.031664         -0.042654     0.072215   \n",
              "shots/total           0.691193          0.646313     0.674270   \n",
              "\n",
              "             fouls/committed  cards/yellow  cards/yellowred  cards/red  \\\n",
              "captain             0.135878      0.117818        -0.016583   0.319619   \n",
              "shots/total         0.679163      0.549135         0.087159   0.145427   \n",
              "\n",
              "             penalty/won  penalty/commited  penalty/success  penalty/missed  \\\n",
              "captain        -0.010213          0.085788         0.314003        0.278546   \n",
              "shots/total     0.423871          0.117054         0.493960        0.297705   \n",
              "\n",
              "             games/appearences  games/minutes_played  games/lineups  \\\n",
              "captain               0.123194              0.166197       0.163650   \n",
              "shots/total           0.804802              0.891204       0.888037   \n",
              "\n",
              "             substitutes/in  substitutes/out  substitutes/bench  \n",
              "captain           -0.074054         0.027628          -0.096654  \n",
              "shots/total       -0.097704         0.671683          -0.275060  "
            ]
          },
          "metadata": {
            "tags": []
          },
          "execution_count": 25
        }
      ]
    },
    {
      "cell_type": "markdown",
      "metadata": {
        "id": "v5gzj0s-p1c8"
      },
      "source": [
        "###Because the stats are **Very heavily Correlated**\r\n",
        "\r\n",
        "May Lead ** Biasing ! **\r\n",
        "*  Reduces training time — due to smaller dataset\r\n",
        "*  Removes noise — by keeping only what’s relevant\r\n"
      ]
    },
    {
      "cell_type": "code",
      "metadata": {
        "id": "H4FaxdjcMncT"
      },
      "source": [
        "from sklearn.decomposition import PCA\r\n",
        "\r\n",
        "pca = PCA(n_components=2)\r\n",
        "X_r = pca.fit(X_train).transform(X_train)"
      ],
      "execution_count": 45,
      "outputs": []
    },
    {
      "cell_type": "markdown",
      "metadata": {
        "id": "22xijKK7M92K"
      },
      "source": [
        "**The components are the two axes of the projected back into the original features space.\r\n",
        "We can use these to calculate the relative components of the original features in our \r\n",
        "new features.**\r\n"
      ]
    },
    {
      "cell_type": "code",
      "metadata": {
        "colab": {
          "base_uri": "https://localhost:8080/"
        },
        "id": "lgEMfL5RNH6T",
        "outputId": "c6f247fc-b9eb-4c73-9059-828ef92ce0a8"
      },
      "source": [
        "# Let's get the top components of PC1:\r\n",
        "print(\"top components of Principal Component 1(Eigenvector):\")\r\n",
        "\r\n",
        "#SS (Sum 0f square distances)\r\n",
        "SS_Distances_PC1 = np.abs(pca.components_[0])/np.sum(np.abs(pca.components_[0])) # rel_values\r\n",
        "print(\"Feature Names: \" + str([features[i] for i in np.argsort(-SS_Distances_PC1)[:5]]))\r\n",
        "print(\"Percentages: \" + str(SS_Distances_PC1[np.argsort(-SS_Distances_PC1)[:5]]))"
      ],
      "execution_count": 46,
      "outputs": [
        {
          "output_type": "stream",
          "text": [
            "top components of Principal Component 1(Eigenvector):\n",
            "Feature Names: ['games/minutes_played', 'games/lineups', 'duels/total', 'shots/total', 'passes/total']\n",
            "Percentages: [0.05168771 0.05161854 0.04799575 0.04759392 0.04756509]\n"
          ],
          "name": "stdout"
        }
      ]
    },
    {
      "cell_type": "code",
      "metadata": {
        "colab": {
          "base_uri": "https://localhost:8080/"
        },
        "id": "5cUa8S_Mc8pO",
        "outputId": "b0e78f0b-7776-4ee4-803c-ea2b4e4a09aa"
      },
      "source": [
        "# Let's get the top components of PC2:\r\n",
        "print(\"top components of Principal Component 2 :\")\r\n",
        "\r\n",
        "SS_Distances_PC2 = np.abs(pca.components_[1])/np.sum(np.abs(pca.components_[1]))\r\n",
        "print(\"Feature Names: \" + str([features[i] for i in np.argsort(-SS_Distances_PC2)[:3]]))\r\n",
        "print(\"Percentages: \" + str(SS_Distances_PC2[np.argsort(-SS_Distances_PC2)[:3]]))"
      ],
      "execution_count": 47,
      "outputs": [
        {
          "output_type": "stream",
          "text": [
            "top components of Principal Component 2 :\n",
            "Feature Names: ['substitutes/in', 'substitutes/bench', 'penalty/success']\n",
            "Percentages: [0.13001784 0.12256779 0.08877636]\n"
          ],
          "name": "stdout"
        }
      ]
    },
    {
      "cell_type": "markdown",
      "metadata": {
        "id": "PvAscwOel3QX"
      },
      "source": [
        "\r\n",
        "# Linear Regression in Sklearn \r\n",
        "\r\n",
        "### Overview\r\n",
        "Instructor to demo this on screen.\r\n",
        " \r\n",
        "### Builds on\r\n",
        "None\r\n",
        "\r\n",
        "### Run time\r\n",
        "approx. 20-30 minutes"
      ]
    },
    {
      "cell_type": "code",
      "metadata": {
        "id": "S02-gI9_l5R8"
      },
      "source": [
        "import statsmodels.formula.api as sm\r\n",
        "from sklearn import linear_model\r\n",
        "from sklearn.metrics import mean_squared_error, r2_score"
      ],
      "execution_count": 31,
      "outputs": []
    },
    {
      "cell_type": "code",
      "metadata": {
        "colab": {
          "base_uri": "https://localhost:8080/"
        },
        "id": "VlACj72ameH9",
        "outputId": "59c5f60a-c889-483a-d848-05359671d7dd"
      },
      "source": [
        "# Create linear regression object\r\n",
        "lin_reg_mod = linear_model.LinearRegression()\r\n",
        "lin_reg_mod.fit(X_train, y_train)"
      ],
      "execution_count": 62,
      "outputs": [
        {
          "output_type": "execute_result",
          "data": {
            "text/plain": [
              "LinearRegression(copy_X=True, fit_intercept=True, n_jobs=None, normalize=False)"
            ]
          },
          "metadata": {
            "tags": []
          },
          "execution_count": 62
        }
      ]
    },
    {
      "cell_type": "code",
      "metadata": {
        "id": "bPiuoP4B4bZI"
      },
      "source": [
        "y_pred = lin_reg_mod.predict(X_test)\r\n",
        "#filtered_by_league_NULL_FW['New_Rate']=lin_reg_mod.predict(X)"
      ],
      "execution_count": 63,
      "outputs": []
    },
    {
      "cell_type": "markdown",
      "metadata": {
        "id": "7fFWKG9d8gdS"
      },
      "source": [
        "#Evaluation Of The Model\r\n"
      ]
    },
    {
      "cell_type": "markdown",
      "metadata": {
        "id": "CC5MiU8677Z5"
      },
      "source": [
        "We'll now check the predictions against the actual values by using the RMSE and R-2 metrics, two metrics commonly used to evaluate regression tasks:"
      ]
    },
    {
      "cell_type": "code",
      "metadata": {
        "colab": {
          "base_uri": "https://localhost:8080/",
          "height": 419
        },
        "id": "ztuNGywm8vEX",
        "outputId": "8de37582-077d-49e1-fd83-bfd2a79d24cd"
      },
      "source": [
        "Result = pd.DataFrame({'Rate':y_test ,'Predicted_Rate':y_pred})\r\n",
        "Result"
      ],
      "execution_count": 69,
      "outputs": [
        {
          "output_type": "execute_result",
          "data": {
            "text/html": [
              "<div>\n",
              "<style scoped>\n",
              "    .dataframe tbody tr th:only-of-type {\n",
              "        vertical-align: middle;\n",
              "    }\n",
              "\n",
              "    .dataframe tbody tr th {\n",
              "        vertical-align: top;\n",
              "    }\n",
              "\n",
              "    .dataframe thead th {\n",
              "        text-align: right;\n",
              "    }\n",
              "</style>\n",
              "<table border=\"1\" class=\"dataframe\">\n",
              "  <thead>\n",
              "    <tr style=\"text-align: right;\">\n",
              "      <th></th>\n",
              "      <th>Rate</th>\n",
              "      <th>Predicted_Rate</th>\n",
              "    </tr>\n",
              "  </thead>\n",
              "  <tbody>\n",
              "    <tr>\n",
              "      <th>4292</th>\n",
              "      <td>6.710810</td>\n",
              "      <td>6.696621</td>\n",
              "    </tr>\n",
              "    <tr>\n",
              "      <th>4602</th>\n",
              "      <td>7.140625</td>\n",
              "      <td>7.226573</td>\n",
              "    </tr>\n",
              "    <tr>\n",
              "      <th>6160</th>\n",
              "      <td>6.946666</td>\n",
              "      <td>6.829325</td>\n",
              "    </tr>\n",
              "    <tr>\n",
              "      <th>4699</th>\n",
              "      <td>6.809375</td>\n",
              "      <td>6.784527</td>\n",
              "    </tr>\n",
              "    <tr>\n",
              "      <th>1374</th>\n",
              "      <td>6.512500</td>\n",
              "      <td>6.595281</td>\n",
              "    </tr>\n",
              "    <tr>\n",
              "      <th>...</th>\n",
              "      <td>...</td>\n",
              "      <td>...</td>\n",
              "    </tr>\n",
              "    <tr>\n",
              "      <th>1198</th>\n",
              "      <td>7.206250</td>\n",
              "      <td>7.345957</td>\n",
              "    </tr>\n",
              "    <tr>\n",
              "      <th>6720</th>\n",
              "      <td>6.806250</td>\n",
              "      <td>6.865923</td>\n",
              "    </tr>\n",
              "    <tr>\n",
              "      <th>1572</th>\n",
              "      <td>6.562500</td>\n",
              "      <td>6.564732</td>\n",
              "    </tr>\n",
              "    <tr>\n",
              "      <th>7407</th>\n",
              "      <td>6.507692</td>\n",
              "      <td>6.647211</td>\n",
              "    </tr>\n",
              "    <tr>\n",
              "      <th>5621</th>\n",
              "      <td>7.275000</td>\n",
              "      <td>7.229975</td>\n",
              "    </tr>\n",
              "  </tbody>\n",
              "</table>\n",
              "<p>93 rows × 2 columns</p>\n",
              "</div>"
            ],
            "text/plain": [
              "          Rate  Predicted_Rate\n",
              "4292  6.710810        6.696621\n",
              "4602  7.140625        7.226573\n",
              "6160  6.946666        6.829325\n",
              "4699  6.809375        6.784527\n",
              "1374  6.512500        6.595281\n",
              "...        ...             ...\n",
              "1198  7.206250        7.345957\n",
              "6720  6.806250        6.865923\n",
              "1572  6.562500        6.564732\n",
              "7407  6.507692        6.647211\n",
              "5621  7.275000        7.229975\n",
              "\n",
              "[93 rows x 2 columns]"
            ]
          },
          "metadata": {
            "tags": []
          },
          "execution_count": 69
        }
      ]
    },
    {
      "cell_type": "code",
      "metadata": {
        "id": "ezdrHH9K7-4E"
      },
      "source": [
        "test_set_rmse = (np.sqrt(mean_squared_error(y_test, y_pred)))\r\n",
        "\r\n",
        "test_set_r2 = r2_score(y_test, y_pred)"
      ],
      "execution_count": 66,
      "outputs": []
    },
    {
      "cell_type": "code",
      "metadata": {
        "colab": {
          "base_uri": "https://localhost:8080/"
        },
        "id": "KquZsapC8NEl",
        "outputId": "84f13116-973f-413d-8f29-f43f13ef2bb1"
      },
      "source": [
        "print('The Error percentage(RMSE) in our model = {}'.format(test_set_rmse))\r\n",
        "#print(test_set_r2)"
      ],
      "execution_count": 71,
      "outputs": [
        {
          "output_type": "stream",
          "text": [
            "The Error percentage(RMSE) in our model = 0.13187428077439212\n"
          ],
          "name": "stdout"
        }
      ]
    },
    {
      "cell_type": "code",
      "metadata": {
        "colab": {
          "base_uri": "https://localhost:8080/"
        },
        "id": "NGLDyU_E-ED4",
        "outputId": "5244ac73-4144-4070-f22a-10a8811fe3c1"
      },
      "source": [
        "!pip install eli5"
      ],
      "execution_count": 73,
      "outputs": [
        {
          "output_type": "stream",
          "text": [
            "Collecting eli5\n",
            "\u001b[?25l  Downloading https://files.pythonhosted.org/packages/97/2f/c85c7d8f8548e460829971785347e14e45fa5c6617da374711dec8cb38cc/eli5-0.10.1-py2.py3-none-any.whl (105kB)\n",
            "\r\u001b[K     |███                             | 10kB 17.5MB/s eta 0:00:01\r\u001b[K     |██████▏                         | 20kB 23.7MB/s eta 0:00:01\r\u001b[K     |█████████▎                      | 30kB 12.3MB/s eta 0:00:01\r\u001b[K     |████████████▍                   | 40kB 9.4MB/s eta 0:00:01\r\u001b[K     |███████████████▌                | 51kB 8.0MB/s eta 0:00:01\r\u001b[K     |██████████████████▋             | 61kB 8.3MB/s eta 0:00:01\r\u001b[K     |█████████████████████▊          | 71kB 8.1MB/s eta 0:00:01\r\u001b[K     |████████████████████████▊       | 81kB 8.3MB/s eta 0:00:01\r\u001b[K     |███████████████████████████▉    | 92kB 8.0MB/s eta 0:00:01\r\u001b[K     |███████████████████████████████ | 102kB 7.4MB/s eta 0:00:01\r\u001b[K     |████████████████████████████████| 112kB 7.4MB/s \n",
            "\u001b[?25hRequirement already satisfied: tabulate>=0.7.7 in /usr/local/lib/python3.6/dist-packages (from eli5) (0.8.7)\n",
            "Requirement already satisfied: attrs>16.0.0 in /usr/local/lib/python3.6/dist-packages (from eli5) (20.3.0)\n",
            "Requirement already satisfied: numpy>=1.9.0 in /usr/local/lib/python3.6/dist-packages (from eli5) (1.19.5)\n",
            "Requirement already satisfied: graphviz in /usr/local/lib/python3.6/dist-packages (from eli5) (0.10.1)\n",
            "Requirement already satisfied: six in /usr/local/lib/python3.6/dist-packages (from eli5) (1.15.0)\n",
            "Requirement already satisfied: jinja2 in /usr/local/lib/python3.6/dist-packages (from eli5) (2.11.2)\n",
            "Requirement already satisfied: scikit-learn>=0.18 in /usr/local/lib/python3.6/dist-packages (from eli5) (0.22.2.post1)\n",
            "Requirement already satisfied: scipy in /usr/local/lib/python3.6/dist-packages (from eli5) (1.4.1)\n",
            "Requirement already satisfied: MarkupSafe>=0.23 in /usr/local/lib/python3.6/dist-packages (from jinja2->eli5) (1.1.1)\n",
            "Requirement already satisfied: joblib>=0.11 in /usr/local/lib/python3.6/dist-packages (from scikit-learn>=0.18->eli5) (1.0.0)\n",
            "Installing collected packages: eli5\n",
            "Successfully installed eli5-0.10.1\n"
          ],
          "name": "stdout"
        }
      ]
    },
    {
      "cell_type": "code",
      "metadata": {
        "colab": {
          "base_uri": "https://localhost:8080/",
          "height": 464
        },
        "id": "e9qf2bRL960t",
        "outputId": "1c5f8e96-0b27-490b-ebd4-72105f572b7d"
      },
      "source": [
        "import eli5\r\n",
        "eli5.explain_weights(lin_reg_mod, feature_names=list(X.columns))"
      ],
      "execution_count": 80,
      "outputs": [
        {
          "output_type": "execute_result",
          "data": {
            "text/html": [
              "\n",
              "    <style>\n",
              "    table.eli5-weights tr:hover {\n",
              "        filter: brightness(85%);\n",
              "    }\n",
              "</style>\n",
              "\n",
              "\n",
              "\n",
              "    \n",
              "\n",
              "    \n",
              "\n",
              "    \n",
              "\n",
              "    \n",
              "\n",
              "    \n",
              "\n",
              "    \n",
              "\n",
              "\n",
              "    \n",
              "\n",
              "    \n",
              "\n",
              "    \n",
              "\n",
              "    \n",
              "        \n",
              "\n",
              "    \n",
              "\n",
              "        \n",
              "            \n",
              "                \n",
              "                \n",
              "    \n",
              "        <p style=\"margin-bottom: 0.5em; margin-top: 0em\">\n",
              "            <b>\n",
              "    \n",
              "        y\n",
              "    \n",
              "</b>\n",
              "\n",
              "top features\n",
              "        </p>\n",
              "    \n",
              "    <table class=\"eli5-weights\"\n",
              "           style=\"border-collapse: collapse; border: none; margin-top: 0em; table-layout: auto; margin-bottom: 2em;\">\n",
              "        <thead>\n",
              "        <tr style=\"border: none;\">\n",
              "            \n",
              "                <th style=\"padding: 0 1em 0 0.5em; text-align: right; border: none;\" title=\"Feature weights. Note that weights do not account for feature value scales, so if feature values have different scales, features with highest weights might not be the most important.\">\n",
              "                    Weight<sup>?</sup>\n",
              "                </th>\n",
              "            \n",
              "            <th style=\"padding: 0 0.5em 0 0.5em; text-align: left; border: none;\">Feature</th>\n",
              "            \n",
              "        </tr>\n",
              "        </thead>\n",
              "        <tbody>\n",
              "        \n",
              "            <tr style=\"background-color: hsl(120, 100.00%, 80.00%); border: none;\">\n",
              "    <td style=\"padding: 0 1em 0 0.5em; text-align: right; border: none;\">\n",
              "        +6.823\n",
              "    </td>\n",
              "    <td style=\"padding: 0 0.5em 0 0.5em; text-align: left; border: none;\">\n",
              "        &lt;BIAS&gt;\n",
              "    </td>\n",
              "    \n",
              "</tr>\n",
              "        \n",
              "            <tr style=\"background-color: hsl(120, 100.00%, 98.24%); border: none;\">\n",
              "    <td style=\"padding: 0 1em 0 0.5em; text-align: right; border: none;\">\n",
              "        +0.211\n",
              "    </td>\n",
              "    <td style=\"padding: 0 0.5em 0 0.5em; text-align: left; border: none;\">\n",
              "        duels/won\n",
              "    </td>\n",
              "    \n",
              "</tr>\n",
              "        \n",
              "            <tr style=\"background-color: hsl(120, 100.00%, 98.49%); border: none;\">\n",
              "    <td style=\"padding: 0 1em 0 0.5em; text-align: right; border: none;\">\n",
              "        +0.169\n",
              "    </td>\n",
              "    <td style=\"padding: 0 0.5em 0 0.5em; text-align: left; border: none;\">\n",
              "        passes/key\n",
              "    </td>\n",
              "    \n",
              "</tr>\n",
              "        \n",
              "            <tr style=\"background-color: hsl(120, 100.00%, 98.59%); border: none;\">\n",
              "    <td style=\"padding: 0 1em 0 0.5em; text-align: right; border: none;\">\n",
              "        +0.154\n",
              "    </td>\n",
              "    <td style=\"padding: 0 0.5em 0 0.5em; text-align: left; border: none;\">\n",
              "        dribbles/success\n",
              "    </td>\n",
              "    \n",
              "</tr>\n",
              "        \n",
              "            <tr style=\"background-color: hsl(120, 100.00%, 98.92%); border: none;\">\n",
              "    <td style=\"padding: 0 1em 0 0.5em; text-align: right; border: none;\">\n",
              "        +0.105\n",
              "    </td>\n",
              "    <td style=\"padding: 0 0.5em 0 0.5em; text-align: left; border: none;\">\n",
              "        goals/total\n",
              "    </td>\n",
              "    \n",
              "</tr>\n",
              "        \n",
              "            <tr style=\"background-color: hsl(120, 100.00%, 99.08%); border: none;\">\n",
              "    <td style=\"padding: 0 1em 0 0.5em; text-align: right; border: none;\">\n",
              "        +0.084\n",
              "    </td>\n",
              "    <td style=\"padding: 0 0.5em 0 0.5em; text-align: left; border: none;\">\n",
              "        shots/total\n",
              "    </td>\n",
              "    \n",
              "</tr>\n",
              "        \n",
              "            <tr style=\"background-color: hsl(120, 100.00%, 99.61%); border: none;\">\n",
              "    <td style=\"padding: 0 1em 0 0.5em; text-align: right; border: none;\">\n",
              "        +0.025\n",
              "    </td>\n",
              "    <td style=\"padding: 0 0.5em 0 0.5em; text-align: left; border: none;\">\n",
              "        tackles/blocks\n",
              "    </td>\n",
              "    \n",
              "</tr>\n",
              "        \n",
              "            <tr style=\"background-color: hsl(120, 100.00%, 99.64%); border: none;\">\n",
              "    <td style=\"padding: 0 1em 0 0.5em; text-align: right; border: none;\">\n",
              "        +0.022\n",
              "    </td>\n",
              "    <td style=\"padding: 0 0.5em 0 0.5em; text-align: left; border: none;\">\n",
              "        shots/on\n",
              "    </td>\n",
              "    \n",
              "</tr>\n",
              "        \n",
              "            <tr style=\"background-color: hsl(120, 100.00%, 99.75%); border: none;\">\n",
              "    <td style=\"padding: 0 1em 0 0.5em; text-align: right; border: none;\">\n",
              "        +0.013\n",
              "    </td>\n",
              "    <td style=\"padding: 0 0.5em 0 0.5em; text-align: left; border: none;\">\n",
              "        goals/assists\n",
              "    </td>\n",
              "    \n",
              "</tr>\n",
              "        \n",
              "            <tr style=\"background-color: hsl(120, 100.00%, 99.79%); border: none;\">\n",
              "    <td style=\"padding: 0 1em 0 0.5em; text-align: right; border: none;\">\n",
              "        +0.010\n",
              "    </td>\n",
              "    <td style=\"padding: 0 0.5em 0 0.5em; text-align: left; border: none;\">\n",
              "        tackles/total\n",
              "    </td>\n",
              "    \n",
              "</tr>\n",
              "        \n",
              "            <tr style=\"background-color: hsl(120, 100.00%, 99.79%); border: none;\">\n",
              "    <td style=\"padding: 0 1em 0 0.5em; text-align: right; border: none;\">\n",
              "        +0.010\n",
              "    </td>\n",
              "    <td style=\"padding: 0 0.5em 0 0.5em; text-align: left; border: none;\">\n",
              "        passes/total\n",
              "    </td>\n",
              "    \n",
              "</tr>\n",
              "        \n",
              "            <tr style=\"background-color: hsl(120, 100.00%, 99.79%); border: none;\">\n",
              "    <td style=\"padding: 0 1em 0 0.5em; text-align: right; border: none;\">\n",
              "        +0.010\n",
              "    </td>\n",
              "    <td style=\"padding: 0 0.5em 0 0.5em; text-align: left; border: none;\">\n",
              "        substitutes/out\n",
              "    </td>\n",
              "    \n",
              "</tr>\n",
              "        \n",
              "        \n",
              "            <tr style=\"background-color: hsl(120, 100.00%, 99.79%); border: none;\">\n",
              "                <td colspan=\"2\" style=\"padding: 0 0.5em 0 0.5em; text-align: center; border: none; white-space: nowrap;\">\n",
              "                    <i>&hellip; 8 more positive &hellip;</i>\n",
              "                </td>\n",
              "            </tr>\n",
              "        \n",
              "\n",
              "        \n",
              "            <tr style=\"background-color: hsl(0, 100.00%, 99.78%); border: none;\">\n",
              "                <td colspan=\"2\" style=\"padding: 0 0.5em 0 0.5em; text-align: center; border: none; white-space: nowrap;\">\n",
              "                    <i>&hellip; 3 more negative &hellip;</i>\n",
              "                </td>\n",
              "            </tr>\n",
              "        \n",
              "        \n",
              "            <tr style=\"background-color: hsl(0, 100.00%, 99.78%); border: none;\">\n",
              "    <td style=\"padding: 0 1em 0 0.5em; text-align: right; border: none;\">\n",
              "        -0.011\n",
              "    </td>\n",
              "    <td style=\"padding: 0 0.5em 0 0.5em; text-align: left; border: none;\">\n",
              "        cards/red\n",
              "    </td>\n",
              "    \n",
              "</tr>\n",
              "        \n",
              "            <tr style=\"background-color: hsl(0, 100.00%, 99.76%); border: none;\">\n",
              "    <td style=\"padding: 0 1em 0 0.5em; text-align: right; border: none;\">\n",
              "        -0.012\n",
              "    </td>\n",
              "    <td style=\"padding: 0 0.5em 0 0.5em; text-align: left; border: none;\">\n",
              "        substitutes/bench\n",
              "    </td>\n",
              "    \n",
              "</tr>\n",
              "        \n",
              "            <tr style=\"background-color: hsl(0, 100.00%, 99.76%); border: none;\">\n",
              "    <td style=\"padding: 0 1em 0 0.5em; text-align: right; border: none;\">\n",
              "        -0.012\n",
              "    </td>\n",
              "    <td style=\"padding: 0 0.5em 0 0.5em; text-align: left; border: none;\">\n",
              "        penalty/commited\n",
              "    </td>\n",
              "    \n",
              "</tr>\n",
              "        \n",
              "            <tr style=\"background-color: hsl(0, 100.00%, 99.52%); border: none;\">\n",
              "    <td style=\"padding: 0 1em 0 0.5em; text-align: right; border: none;\">\n",
              "        -0.033\n",
              "    </td>\n",
              "    <td style=\"padding: 0 0.5em 0 0.5em; text-align: left; border: none;\">\n",
              "        games/appearences\n",
              "    </td>\n",
              "    \n",
              "</tr>\n",
              "        \n",
              "            <tr style=\"background-color: hsl(0, 100.00%, 99.49%); border: none;\">\n",
              "    <td style=\"padding: 0 1em 0 0.5em; text-align: right; border: none;\">\n",
              "        -0.036\n",
              "    </td>\n",
              "    <td style=\"padding: 0 0.5em 0 0.5em; text-align: left; border: none;\">\n",
              "        games/lineups\n",
              "    </td>\n",
              "    \n",
              "</tr>\n",
              "        \n",
              "            <tr style=\"background-color: hsl(0, 100.00%, 99.15%); border: none;\">\n",
              "    <td style=\"padding: 0 1em 0 0.5em; text-align: right; border: none;\">\n",
              "        -0.075\n",
              "    </td>\n",
              "    <td style=\"padding: 0 0.5em 0 0.5em; text-align: left; border: none;\">\n",
              "        games/minutes_played\n",
              "    </td>\n",
              "    \n",
              "</tr>\n",
              "        \n",
              "            <tr style=\"background-color: hsl(0, 100.00%, 98.41%); border: none;\">\n",
              "    <td style=\"padding: 0 1em 0 0.5em; text-align: right; border: none;\">\n",
              "        -0.183\n",
              "    </td>\n",
              "    <td style=\"padding: 0 0.5em 0 0.5em; text-align: left; border: none;\">\n",
              "        dribbles/attempts\n",
              "    </td>\n",
              "    \n",
              "</tr>\n",
              "        \n",
              "            <tr style=\"background-color: hsl(0, 100.00%, 98.17%); border: none;\">\n",
              "    <td style=\"padding: 0 1em 0 0.5em; text-align: right; border: none;\">\n",
              "        -0.223\n",
              "    </td>\n",
              "    <td style=\"padding: 0 0.5em 0 0.5em; text-align: left; border: none;\">\n",
              "        duels/total\n",
              "    </td>\n",
              "    \n",
              "</tr>\n",
              "        \n",
              "\n",
              "        </tbody>\n",
              "    </table>\n",
              "\n",
              "            \n",
              "        \n",
              "\n",
              "        \n",
              "\n",
              "\n",
              "\n",
              "    \n",
              "\n",
              "    \n",
              "\n",
              "    \n",
              "\n",
              "    \n",
              "\n",
              "\n",
              "    \n",
              "\n",
              "    \n",
              "\n",
              "    \n",
              "\n",
              "    \n",
              "\n",
              "    \n",
              "\n",
              "    \n",
              "\n",
              "\n",
              "    \n",
              "\n",
              "    \n",
              "\n",
              "    \n",
              "\n",
              "    \n",
              "\n",
              "    \n",
              "\n",
              "    \n",
              "\n",
              "\n",
              "\n"
            ],
            "text/plain": [
              "Explanation(estimator='LinearRegression(copy_X=True, fit_intercept=True, n_jobs=None, normalize=False)', description=\"\\nFeatures with largest coefficients.\\nCaveats:\\n1. Be careful with features which are not\\n   independent - weights don't show their importance.\\n2. If scale of input features is different then scale of coefficients\\n   will also be different, making direct comparison between coefficient values\\n   incorrect.\\n3. Depending on regularization, rare features sometimes may have high\\n   coefficients; this doesn't mean they contribute much to the\\n   classification result for most examples.\\n\", error=None, method='linear model', is_regression=True, targets=[TargetExplanation(target='y', feature_weights=FeatureWeights(pos=[FeatureWeight(feature='<BIAS>', weight=6.822740712365592, std=None, value=None), FeatureWeight(feature='duels/won', weight=0.21115976229006392, std=None, value=None), FeatureWeight(feature='passes/key', weight=0.16947266060026867, std=None, value=None), FeatureWeight(feature='dribbles/success', weight=0.154160573424401, std=None, value=None), FeatureWeight(feature='goals/total', weight=0.10536153723014756, std=None, value=None), FeatureWeight(feature='shots/total', weight=0.08407812286337273, std=None, value=None), FeatureWeight(feature='tackles/blocks', weight=0.02496471546664076, std=None, value=None), FeatureWeight(feature='shots/on', weight=0.021526755277976192, std=None, value=None), FeatureWeight(feature='goals/assists', weight=0.01270441392067949, std=None, value=None), FeatureWeight(feature='tackles/total', weight=0.010392080567026302, std=None, value=None), FeatureWeight(feature='passes/total', weight=0.010353747195214591, std=None, value=None), FeatureWeight(feature='substitutes/out', weight=0.010201974639575772, std=None, value=None)], neg=[FeatureWeight(feature='duels/total', weight=-0.22321928361221796, std=None, value=None), FeatureWeight(feature='dribbles/attempts', weight=-0.18292820643536206, std=None, value=None), FeatureWeight(feature='games/minutes_played', weight=-0.07520603170264256, std=None, value=None), FeatureWeight(feature='games/lineups', weight=-0.035852637698133724, std=None, value=None), FeatureWeight(feature='games/appearences', weight=-0.03300752329880616, std=None, value=None), FeatureWeight(feature='penalty/commited', weight=-0.012438406134493726, std=None, value=None), FeatureWeight(feature='substitutes/bench', weight=-0.01203944317548405, std=None, value=None), FeatureWeight(feature='cards/red', weight=-0.010635492660474075, std=None, value=None)], pos_remaining=8, neg_remaining=3), proba=None, score=None, weighted_spans=None, heatmap=None)], feature_importances=None, decision_tree=None, highlight_spaces=None, transition_features=None, image=None)"
            ]
          },
          "metadata": {
            "tags": []
          },
          "execution_count": 80
        }
      ]
    },
    {
      "cell_type": "code",
      "metadata": {
        "colab": {
          "base_uri": "https://localhost:8080/",
          "height": 546
        },
        "id": "ggZ96rdk49cb",
        "outputId": "64c06b10-9591-4b57-b857-677aed83a2f1"
      },
      "source": [
        "# Building the optimal model using Backward Elimination\r\n",
        "import statsmodels.api as sm\r\n",
        "X = np.append(arr = np.ones((465, 1)).astype(int), values = X, axis = 1)\r\n",
        "X_opt = X[:, [0, 1, 2, 3, 4, 5]]\r\n",
        "regressor_OLS = sm.OLS(endog = Y, exog = X_opt).fit() #ordinary least\r\n",
        "regressor_OLS.summary()\r\n",
        "X_opt = X[:, [0, 1, 3, 4, 5]]\r\n",
        "regressor_OLS = sm.OLS(endog = Y, exog = X_opt).fit()\r\n",
        "regressor_OLS.summary()\r\n",
        "X_opt = X[:, [0, 3, 4, 5]]\r\n",
        "regressor_OLS = sm.OLS(endog = Y, exog = X_opt).fit()\r\n",
        "regressor_OLS.summary()\r\n",
        "X_opt = X[:, [0, 3, 5]]\r\n",
        "regressor_OLS = sm.OLS(endog = Y, exog = X_opt).fit()\r\n",
        "regressor_OLS.summary()\r\n",
        "X_opt = X[:, [0, 3]]\r\n",
        "regressor_OLS = sm.OLS(endog = Y, exog = X_opt).fit()\r\n",
        "regressor_OLS.summary()"
      ],
      "execution_count": 60,
      "outputs": [
        {
          "output_type": "stream",
          "text": [
            "/usr/local/lib/python3.6/dist-packages/statsmodels/regression/linear_model.py:1657: RuntimeWarning: divide by zero encountered in double_scalars\n",
            "  return self.ess/self.df_model\n",
            "/usr/local/lib/python3.6/dist-packages/statsmodels/regression/linear_model.py:1657: RuntimeWarning: invalid value encountered in double_scalars\n",
            "  return self.ess/self.df_model\n"
          ],
          "name": "stderr"
        },
        {
          "output_type": "execute_result",
          "data": {
            "text/html": [
              "<table class=\"simpletable\">\n",
              "<caption>OLS Regression Results</caption>\n",
              "<tr>\n",
              "  <th>Dep. Variable:</th>         <td>rating</td>      <th>  R-squared:         </th> <td>   0.000</td>\n",
              "</tr>\n",
              "<tr>\n",
              "  <th>Model:</th>                   <td>OLS</td>       <th>  Adj. R-squared:    </th> <td>   0.000</td>\n",
              "</tr>\n",
              "<tr>\n",
              "  <th>Method:</th>             <td>Least Squares</td>  <th>  F-statistic:       </th> <td>     nan</td>\n",
              "</tr>\n",
              "<tr>\n",
              "  <th>Date:</th>             <td>Thu, 21 Jan 2021</td> <th>  Prob (F-statistic):</th>  <td>   nan</td> \n",
              "</tr>\n",
              "<tr>\n",
              "  <th>Time:</th>                 <td>12:26:55</td>     <th>  Log-Likelihood:    </th> <td> -80.484</td>\n",
              "</tr>\n",
              "<tr>\n",
              "  <th>No. Observations:</th>      <td>   465</td>      <th>  AIC:               </th> <td>   163.0</td>\n",
              "</tr>\n",
              "<tr>\n",
              "  <th>Df Residuals:</th>          <td>   464</td>      <th>  BIC:               </th> <td>   167.1</td>\n",
              "</tr>\n",
              "<tr>\n",
              "  <th>Df Model:</th>              <td>     0</td>      <th>                     </th>     <td> </td>   \n",
              "</tr>\n",
              "<tr>\n",
              "  <th>Covariance Type:</th>      <td>nonrobust</td>    <th>                     </th>     <td> </td>   \n",
              "</tr>\n",
              "</table>\n",
              "<table class=\"simpletable\">\n",
              "<tr>\n",
              "    <td></td>       <th>coef</th>     <th>std err</th>      <th>t</th>      <th>P>|t|</th>  <th>[0.025</th>    <th>0.975]</th>  \n",
              "</tr>\n",
              "<tr>\n",
              "  <th>const</th> <td>    3.4053</td> <td>    0.007</td> <td>  509.934</td> <td> 0.000</td> <td>    3.392</td> <td>    3.418</td>\n",
              "</tr>\n",
              "<tr>\n",
              "  <th>x1</th>    <td>    3.4053</td> <td>    0.007</td> <td>  509.934</td> <td> 0.000</td> <td>    3.392</td> <td>    3.418</td>\n",
              "</tr>\n",
              "</table>\n",
              "<table class=\"simpletable\">\n",
              "<tr>\n",
              "  <th>Omnibus:</th>       <td>63.398</td> <th>  Durbin-Watson:     </th> <td>   1.581</td>\n",
              "</tr>\n",
              "<tr>\n",
              "  <th>Prob(Omnibus):</th> <td> 0.000</td> <th>  Jarque-Bera (JB):  </th> <td> 100.018</td>\n",
              "</tr>\n",
              "<tr>\n",
              "  <th>Skew:</th>          <td> 0.866</td> <th>  Prob(JB):          </th> <td>1.91e-22</td>\n",
              "</tr>\n",
              "<tr>\n",
              "  <th>Kurtosis:</th>      <td> 4.471</td> <th>  Cond. No.          </th> <td>2.28e+15</td>\n",
              "</tr>\n",
              "</table><br/><br/>Warnings:<br/>[1] Standard Errors assume that the covariance matrix of the errors is correctly specified.<br/>[2] The smallest eigenvalue is 1.79e-28. This might indicate that there are<br/>strong multicollinearity problems or that the design matrix is singular."
            ],
            "text/plain": [
              "<class 'statsmodels.iolib.summary.Summary'>\n",
              "\"\"\"\n",
              "                            OLS Regression Results                            \n",
              "==============================================================================\n",
              "Dep. Variable:                 rating   R-squared:                       0.000\n",
              "Model:                            OLS   Adj. R-squared:                  0.000\n",
              "Method:                 Least Squares   F-statistic:                       nan\n",
              "Date:                Thu, 21 Jan 2021   Prob (F-statistic):                nan\n",
              "Time:                        12:26:55   Log-Likelihood:                -80.484\n",
              "No. Observations:                 465   AIC:                             163.0\n",
              "Df Residuals:                     464   BIC:                             167.1\n",
              "Df Model:                           0                                         \n",
              "Covariance Type:            nonrobust                                         \n",
              "==============================================================================\n",
              "                 coef    std err          t      P>|t|      [0.025      0.975]\n",
              "------------------------------------------------------------------------------\n",
              "const          3.4053      0.007    509.934      0.000       3.392       3.418\n",
              "x1             3.4053      0.007    509.934      0.000       3.392       3.418\n",
              "==============================================================================\n",
              "Omnibus:                       63.398   Durbin-Watson:                   1.581\n",
              "Prob(Omnibus):                  0.000   Jarque-Bera (JB):              100.018\n",
              "Skew:                           0.866   Prob(JB):                     1.91e-22\n",
              "Kurtosis:                       4.471   Cond. No.                     2.28e+15\n",
              "==============================================================================\n",
              "\n",
              "Warnings:\n",
              "[1] Standard Errors assume that the covariance matrix of the errors is correctly specified.\n",
              "[2] The smallest eigenvalue is 1.79e-28. This might indicate that there are\n",
              "strong multicollinearity problems or that the design matrix is singular.\n",
              "\"\"\""
            ]
          },
          "metadata": {
            "tags": []
          },
          "execution_count": 60
        }
      ]
    }
  ]
}